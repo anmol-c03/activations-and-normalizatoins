{
 "cells": [
  {
   "cell_type": "markdown",
   "id": "0bee72bb-0c48-43e3-8756-49f167574426",
   "metadata": {},
   "source": [
    "## This notebook focuses on developing character prediction model using multi layer perceptron.This notebook is based on Andrej Karpathey's building makemore:part 2"
   ]
  },
  {
   "cell_type": "code",
   "execution_count": 1,
   "id": "3de4c5fe-0493-4715-96d6-53f0baf29f6a",
   "metadata": {},
   "outputs": [],
   "source": [
    "import torch\n",
    "import torch.nn.functional as F # type: ignore\n",
    "import matplotlib.pyplot as plt"
   ]
  },
  {
   "cell_type": "code",
   "execution_count": 2,
   "id": "168c336a-42a7-40e4-bd1e-8999b3b15d48",
   "metadata": {},
   "outputs": [],
   "source": [
    "words=open('names.txt','r').read().splitlines()"
   ]
  },
  {
   "cell_type": "code",
   "execution_count": 3,
   "id": "9e05fb5f-c43f-4929-ac20-41dab0dffbfe",
   "metadata": {},
   "outputs": [
    {
     "data": {
      "text/plain": [
       "['emma', 'olivia', 'ava', 'isabella', 'sophia', 'charlotte', 'mia', 'amelia']"
      ]
     },
     "execution_count": 3,
     "metadata": {},
     "output_type": "execute_result"
    }
   ],
   "source": [
    "words[:8]"
   ]
  },
  {
   "cell_type": "code",
   "execution_count": 4,
   "id": "abc7b0f8-c6b9-4966-ac9d-f7778860bae0",
   "metadata": {},
   "outputs": [
    {
     "data": {
      "text/plain": [
       "32033"
      ]
     },
     "execution_count": 4,
     "metadata": {},
     "output_type": "execute_result"
    }
   ],
   "source": [
    "len(words)"
   ]
  },
  {
   "cell_type": "code",
   "execution_count": 5,
   "id": "27f048c7-11c5-4d53-83bd-2d0613dead64",
   "metadata": {},
   "outputs": [
    {
     "data": {
      "text/plain": [
       "{1: 'a',\n",
       " 2: 'b',\n",
       " 3: 'c',\n",
       " 4: 'd',\n",
       " 5: 'e',\n",
       " 6: 'f',\n",
       " 7: 'g',\n",
       " 8: 'h',\n",
       " 9: 'i',\n",
       " 10: 'j',\n",
       " 11: 'k',\n",
       " 12: 'l',\n",
       " 13: 'm',\n",
       " 14: 'n',\n",
       " 15: 'o',\n",
       " 16: 'p',\n",
       " 17: 'q',\n",
       " 18: 'r',\n",
       " 19: 's',\n",
       " 20: 't',\n",
       " 21: 'u',\n",
       " 22: 'v',\n",
       " 23: 'w',\n",
       " 24: 'x',\n",
       " 25: 'y',\n",
       " 26: 'z',\n",
       " 0: '.'}"
      ]
     },
     "execution_count": 5,
     "metadata": {},
     "output_type": "execute_result"
    }
   ],
   "source": [
    "char=sorted(set(''.join(words))) \n",
    "stoi={s:(i+1) for i,s in enumerate(char)}\n",
    "stoi['.']=0\n",
    "itos={i:s for s,i in stoi.items()}\n",
    "itos"
   ]
  },
  {
   "cell_type": "code",
   "execution_count": 6,
   "id": "5e003ff2-4088-46c9-9a31-21191cec4eca",
   "metadata": {},
   "outputs": [
    {
     "data": {
      "text/plain": [
       "228146"
      ]
     },
     "execution_count": 6,
     "metadata": {},
     "output_type": "execute_result"
    }
   ],
   "source": [
    "block_size=3\n",
    "x,y=[],[]\n",
    "for w in words:\n",
    "    context=[0]*block_size\n",
    "    # print(w)\n",
    "    for ch in w+'.':\n",
    "        ix=stoi[ch]\n",
    "        x.append(context)\n",
    "        y.append(ix)\n",
    "        # print(''.join(itos[i] for i in context),'----->',itos[ix])\n",
    "        context=context[1:]+[ix]\n",
    "\n",
    "        \n",
    "xs=torch.tensor(x)\n",
    "ys=torch.tensor(y)\n",
    "xs.shape[0]"
   ]
  },
  {
   "cell_type": "code",
   "execution_count": 7,
   "id": "391db903-8e5d-4dbe-86ff-ff0ef6b00085",
   "metadata": {},
   "outputs": [],
   "source": [
    "def build_dataset(words):\n",
    "    block_size=3\n",
    "    x,y=[],[]\n",
    "    for w in words:\n",
    "        context=[0]*block_size\n",
    "        for ch in w+'.':\n",
    "            ix=stoi[ch]\n",
    "            x.append(context)\n",
    "            y.append(ix)\n",
    "            context=context[1:]+[ix]\n",
    "    xs=torch.tensor(x)    \n",
    "    ys=torch.tensor(y)\n",
    "    return xs,ys\n",
    "\n",
    "import random\n",
    "random.seed(42)\n",
    "random.shuffle(words)\n",
    "n1=int(0.8*len(words))\n",
    "n2=int(0.9*len(words))\n",
    "\n",
    "x_train,y_train=build_dataset(words[:n1])\n",
    "x_dev,y_dev=build_dataset(words[n1:n2])\n",
    "x_test,y_test=build_dataset(words[n2:])"
   ]
  },
  {
   "cell_type": "code",
   "execution_count": 8,
   "id": "13a4603c-7148-465c-919a-1e1d10336995",
   "metadata": {},
   "outputs": [
    {
     "name": "stdout",
     "output_type": "stream",
     "text": [
      "torch.Size([182625, 3]) torch.Size([182625])\n",
      "torch.Size([22655, 3]) torch.Size([22655])\n",
      "torch.Size([22866, 3]) torch.Size([22866])\n"
     ]
    },
    {
     "data": {
      "text/plain": [
       "228146"
      ]
     },
     "execution_count": 8,
     "metadata": {},
     "output_type": "execute_result"
    }
   ],
   "source": [
    "print(x_train.shape,y_train.shape)\n",
    "print(x_dev.shape,y_dev.shape)\n",
    "print(x_test.shape,y_test.shape)\n",
    "x_train.shape[0]+x_dev.shape[0]+x_test.shape[0]"
   ]
  },
  {
   "cell_type": "markdown",
   "id": "2ec72237-9858-4bd7-9091-d8ee26d2a930",
   "metadata": {},
   "source": [
    "# Dataset x_train visualization"
   ]
  },
  {
   "cell_type": "code",
   "execution_count": 9,
   "id": "d9a502f3-62c8-46fe-b239-d7dfc9e25aec",
   "metadata": {},
   "outputs": [
    {
     "name": "stdout",
     "output_type": "stream",
     "text": [
      "x_train  label\n",
      "...       e\n",
      "..e       m\n",
      ".em       m\n",
      "emm       a\n",
      "mma       .\n",
      "...       o\n",
      "..o       l\n"
     ]
    }
   ],
   "source": [
    "print('x_train  label')\n",
    "for j in range(len(x)):\n",
    "    print(''.join(itos[i] for i in x[j]),end='       ')\n",
    "    print(itos[y[j]])\n",
    "    if j>5:\n",
    "        break"
   ]
  },
  {
   "cell_type": "code",
   "execution_count": 104,
   "id": "cb22871a-75be-4c60-8688-edbc44dd2289",
   "metadata": {},
   "outputs": [
    {
     "data": {
      "text/plain": [
       "(torch.Size([32, 3]), torch.int64, torch.Size([32]), torch.int64)"
      ]
     },
     "execution_count": 104,
     "metadata": {},
     "output_type": "execute_result"
    }
   ],
   "source": [
    "xs.shape,xs.dtype,ys.shape,ys.dtype"
   ]
  },
  {
   "cell_type": "markdown",
   "id": "9a49c16c-48a6-467f-aa5f-cbcc376cd0f4",
   "metadata": {},
   "source": [
    "# This portion is just for some extra info , you can just skip to next section to directly see the embedding"
   ]
  },
  {
   "cell_type": "markdown",
   "id": "2039dddd-c481-49fc-bc44-a56ec9cc978b",
   "metadata": {},
   "source": [
    "there is two way to access the emebedding\n",
    "and in this case embedding is done in 2 dimensional space\n"
   ]
  },
  {
   "cell_type": "code",
   "execution_count": 10,
   "id": "6447f22c-c601-4a8b-b501-2835b36e32f6",
   "metadata": {},
   "outputs": [],
   "source": [
    "c=torch.randn(27,2)"
   ]
  },
  {
   "cell_type": "code",
   "execution_count": 11,
   "id": "9057c5ad-e129-4e3d-a9a3-3bbaeaf680fd",
   "metadata": {},
   "outputs": [
    {
     "data": {
      "text/plain": [
       "tensor([-0.9197,  0.2046])"
      ]
     },
     "execution_count": 11,
     "metadata": {},
     "output_type": "execute_result"
    }
   ],
   "source": [
    "c[5]"
   ]
  },
  {
   "cell_type": "code",
   "execution_count": 12,
   "id": "89206656-f2e9-48f2-bf8f-cc5055362962",
   "metadata": {},
   "outputs": [
    {
     "data": {
      "text/plain": [
       "tensor([-0.9197,  0.2046])"
      ]
     },
     "execution_count": 12,
     "metadata": {},
     "output_type": "execute_result"
    }
   ],
   "source": [
    "F.one_hot(torch.tensor(5),num_classes=27).float()@c"
   ]
  },
  {
   "cell_type": "markdown",
   "id": "9f672af4-e41a-4474-9a99-ba359214469d",
   "metadata": {},
   "source": [
    "Lets just stick with 1st type of accessing the embedding"
   ]
  },
  {
   "cell_type": "code",
   "execution_count": 13,
   "id": "51e8d028-290f-46c5-82e4-42e60107f5ac",
   "metadata": {},
   "outputs": [
    {
     "data": {
      "text/plain": [
       "torch.Size([228146, 3])"
      ]
     },
     "execution_count": 13,
     "metadata": {},
     "output_type": "execute_result"
    }
   ],
   "source": [
    "xs.shape"
   ]
  },
  {
   "cell_type": "code",
   "execution_count": 14,
   "id": "e60efb89-021d-44cd-a973-1b47cf0b20bb",
   "metadata": {},
   "outputs": [
    {
     "data": {
      "text/plain": [
       "tensor([[-0.9197,  0.2046],\n",
       "        [ 0.3370,  0.2455],\n",
       "        [ 1.9464,  0.5212]])"
      ]
     },
     "execution_count": 14,
     "metadata": {},
     "output_type": "execute_result"
    }
   ],
   "source": [
    "c[[5,6,7]]"
   ]
  },
  {
   "cell_type": "code",
   "execution_count": 15,
   "id": "c159272f-d529-4e0c-8023-62691b45fecf",
   "metadata": {},
   "outputs": [
    {
     "data": {
      "text/plain": [
       "tensor([[-0.9197,  0.2046],\n",
       "        [ 0.3370,  0.2455],\n",
       "        [ 1.9464,  0.5212]])"
      ]
     },
     "execution_count": 15,
     "metadata": {},
     "output_type": "execute_result"
    }
   ],
   "source": [
    "c[torch.tensor([5,6,7])]"
   ]
  },
  {
   "cell_type": "code",
   "execution_count": 16,
   "id": "fd557dc6-0b75-495b-8cae-e7090836e8c0",
   "metadata": {},
   "outputs": [
    {
     "data": {
      "text/plain": [
       "tensor([[-0.9197,  0.2046],\n",
       "        [ 0.3370,  0.2455],\n",
       "        [ 1.9464,  0.5212],\n",
       "        [ 1.9464,  0.5212],\n",
       "        [ 1.9464,  0.5212]])"
      ]
     },
     "execution_count": 16,
     "metadata": {},
     "output_type": "execute_result"
    }
   ],
   "source": [
    "c[torch.tensor([5,6,7,7,7])]"
   ]
  },
  {
   "cell_type": "code",
   "execution_count": 18,
   "id": "61f64bb0-30e4-4d82-ba27-0cf83e2ee099",
   "metadata": {},
   "outputs": [
    {
     "data": {
      "text/plain": [
       "torch.Size([228146, 3, 2])"
      ]
     },
     "execution_count": 18,
     "metadata": {},
     "output_type": "execute_result"
    }
   ],
   "source": [
    "c[xs].shape"
   ]
  },
  {
   "cell_type": "code",
   "execution_count": 19,
   "id": "20aba8bc-687e-416a-8c22-02a2d81a98c8",
   "metadata": {},
   "outputs": [
    {
     "data": {
      "text/plain": [
       "tensor([0.1829, 0.3860])"
      ]
     },
     "execution_count": 19,
     "metadata": {},
     "output_type": "execute_result"
    }
   ],
   "source": [
    "c[1]"
   ]
  },
  {
   "cell_type": "code",
   "execution_count": 20,
   "id": "360eb98d-ba41-45d0-b2f2-a2a904b89e30",
   "metadata": {},
   "outputs": [
    {
     "data": {
      "text/plain": [
       "tensor(1)"
      ]
     },
     "execution_count": 20,
     "metadata": {},
     "output_type": "execute_result"
    }
   ],
   "source": [
    "xs[13,2]"
   ]
  },
  {
   "cell_type": "code",
   "execution_count": 21,
   "id": "ab8eb6d4-33d2-483d-b96b-db6ba3bfe18b",
   "metadata": {},
   "outputs": [
    {
     "data": {
      "text/plain": [
       "tensor([0.1829, 0.3860])"
      ]
     },
     "execution_count": 21,
     "metadata": {},
     "output_type": "execute_result"
    }
   ],
   "source": [
    "c[xs[13,2]]"
   ]
  },
  {
   "cell_type": "markdown",
   "id": "9e4210cb-b2f2-47b2-8698-06941a421729",
   "metadata": {},
   "source": [
    "# embedding"
   ]
  },
  {
   "cell_type": "code",
   "execution_count": 131,
   "id": "647c71e2-57e2-4467-b8f9-555ce2cd128a",
   "metadata": {},
   "outputs": [
    {
     "data": {
      "text/plain": [
       "torch.Size([32, 3, 2])"
      ]
     },
     "execution_count": 131,
     "metadata": {},
     "output_type": "execute_result"
    }
   ],
   "source": [
    "emb=c[xs]\n",
    "emb.shape"
   ]
  },
  {
   "cell_type": "code",
   "execution_count": 132,
   "id": "048e65d6-8e03-4e73-bb1c-e281d6aa74d8",
   "metadata": {},
   "outputs": [],
   "source": [
    "w=torch.randn(6,100)\n",
    "bias=torch.randn(100)"
   ]
  },
  {
   "cell_type": "code",
   "execution_count": 133,
   "id": "51dfd796-a691-452f-a933-565e054a2482",
   "metadata": {},
   "outputs": [
    {
     "ename": "RuntimeError",
     "evalue": "mat1 and mat2 shapes cannot be multiplied (96x2 and 6x100)",
     "output_type": "error",
     "traceback": [
      "\u001b[0;31m---------------------------------------------------------------------------\u001b[0m",
      "\u001b[0;31mRuntimeError\u001b[0m                              Traceback (most recent call last)",
      "Cell \u001b[0;32mIn[133], line 1\u001b[0m\n\u001b[0;32m----> 1\u001b[0m \u001b[43memb\u001b[49m\u001b[38;5;129;43m@w\u001b[39;49m\u001b[38;5;241m+\u001b[39mbias\n",
      "\u001b[0;31mRuntimeError\u001b[0m: mat1 and mat2 shapes cannot be multiplied (96x2 and 6x100)"
     ]
    }
   ],
   "source": [
    "emb@w+bias"
   ]
  },
  {
   "cell_type": "code",
   "execution_count": 134,
   "id": "50e28fb5-1083-48fe-ba59-96f1255f6be2",
   "metadata": {},
   "outputs": [
    {
     "data": {
      "text/plain": [
       "torch.Size([32, 6])"
      ]
     },
     "execution_count": 134,
     "metadata": {},
     "output_type": "execute_result"
    }
   ],
   "source": [
    "torch.cat([emb[:,0,:],emb[:,1,:],emb[:,2,:]],1).shape"
   ]
  },
  {
   "cell_type": "markdown",
   "id": "90fe7414-a5b6-48ee-b9e7-3d213122328d",
   "metadata": {},
   "source": [
    "the above method is not scalabel as if context window increases no of emb and corresponding complecity increases so"
   ]
  },
  {
   "cell_type": "code",
   "execution_count": 135,
   "id": "ea48053a-4f49-4bf6-a3e5-1f3cc2335b20",
   "metadata": {},
   "outputs": [
    {
     "data": {
      "text/plain": [
       "torch.Size([32, 6])"
      ]
     },
     "execution_count": 135,
     "metadata": {},
     "output_type": "execute_result"
    }
   ],
   "source": [
    "torch.cat(torch.unbind(emb,1),1).shape"
   ]
  },
  {
   "cell_type": "markdown",
   "id": "59d08020-4c12-46e0-97ad-e504e6f28eec",
   "metadata": {},
   "source": [
    "Generally pytorch stores tensor as sequential array or one dimensional array, hence we can manipulate the tensors directly using views\n",
    "a.view() and yes this is much more efficient than other 2 beacause there is no other way to manipulate tensors to create new squeezed tensor of [32,6] using using other memory space too. Hence using .view is much more recommeded in case of space complexity"
   ]
  },
  {
   "cell_type": "code",
   "execution_count": 136,
   "id": "486bb172-a261-41cc-98bf-4f0fe9879e05",
   "metadata": {},
   "outputs": [
    {
     "data": {
      "text/plain": [
       "tensor([ 0,  1,  2,  3,  4,  5,  6,  7,  8,  9, 10, 11, 12, 13, 14, 15])"
      ]
     },
     "execution_count": 136,
     "metadata": {},
     "output_type": "execute_result"
    }
   ],
   "source": [
    "a=torch.arange(16)\n",
    "a"
   ]
  },
  {
   "cell_type": "code",
   "execution_count": 137,
   "id": "6b197cf3-7dea-4d41-bba8-45a8432804c1",
   "metadata": {},
   "outputs": [
    {
     "data": {
      "text/plain": [
       "tensor([[ 0,  1,  2,  3],\n",
       "        [ 4,  5,  6,  7],\n",
       "        [ 8,  9, 10, 11],\n",
       "        [12, 13, 14, 15]])"
      ]
     },
     "execution_count": 137,
     "metadata": {},
     "output_type": "execute_result"
    }
   ],
   "source": [
    "a.view(4,4)"
   ]
  },
  {
   "cell_type": "markdown",
   "id": "3dda7d4f-1396-41df-98b0-225eeef9a9cc",
   "metadata": {},
   "source": [
    "# summarizing a bit"
   ]
  },
  {
   "cell_type": "code",
   "execution_count": 138,
   "id": "b9cb8791-d4fc-493c-8d00-7ac4b4820f0f",
   "metadata": {},
   "outputs": [],
   "source": [
    "emb=c[xs]\n",
    "w=torch.randn(6,100)    #weights\n",
    "b=torch.randn(100)   #bias\n",
    "h=torch.tanh(emb.view(-1,6)@w+b)"
   ]
  },
  {
   "cell_type": "code",
   "execution_count": 139,
   "id": "fa8b44c9-4328-4994-a9ac-c012edd548ab",
   "metadata": {},
   "outputs": [
    {
     "data": {
      "text/plain": [
       "torch.Size([32, 100])"
      ]
     },
     "execution_count": 139,
     "metadata": {},
     "output_type": "execute_result"
    }
   ],
   "source": [
    "h.shape"
   ]
  },
  {
   "cell_type": "code",
   "execution_count": 140,
   "id": "1d700406-07a7-49ee-8f5e-c898a42b7478",
   "metadata": {},
   "outputs": [],
   "source": [
    "w1=torch.randn(100,27)\n",
    "b1=torch.randn(27)\n",
    "logits=h@w1+b1"
   ]
  },
  {
   "cell_type": "code",
   "execution_count": 141,
   "id": "a327ebdb-0474-4f7d-8c87-6bece559ad61",
   "metadata": {},
   "outputs": [
    {
     "data": {
      "text/plain": [
       "tensor(17.8021)"
      ]
     },
     "execution_count": 141,
     "metadata": {},
     "output_type": "execute_result"
    }
   ],
   "source": [
    "counts=logits.exp()\n",
    "prob=counts/counts.sum(1,keepdim=True)\n",
    "loss=-prob[torch.arange(32),ys].log().mean()\n",
    "loss"
   ]
  },
  {
   "cell_type": "code",
   "execution_count": 142,
   "id": "ddd03a44-2617-4ec8-99ca-100772902117",
   "metadata": {},
   "outputs": [
    {
     "data": {
      "text/plain": [
       "tensor(17.8021)"
      ]
     },
     "execution_count": 142,
     "metadata": {},
     "output_type": "execute_result"
    }
   ],
   "source": [
    "F.cross_entropy(logits,ys)"
   ]
  },
  {
   "cell_type": "markdown",
   "id": "5e729597-241c-448a-99cb-2831e2443884",
   "metadata": {},
   "source": [
    "Here we can see both cross_entropy and negative log likelihood is same but the case is that we should always use F.cross_entropy insted of custom made loss function.Some of the reasons are:\n",
    "1)It make forward pass and backward pass easy\n",
    "2)all the mathematical operations are clustered and are calculated with less space complexity\n",
    "3)another reason is shown in code"
   ]
  },
  {
   "cell_type": "code",
   "execution_count": 143,
   "id": "2c71052f-beff-4634-a448-cfd3f98c3d6e",
   "metadata": {},
   "outputs": [
    {
     "data": {
      "text/plain": [
       "tensor([0., 0., 0., nan])"
      ]
     },
     "execution_count": 143,
     "metadata": {},
     "output_type": "execute_result"
    }
   ],
   "source": [
    "logits=torch.tensor([-100,2,4,100])\n",
    "counts=logits.exp()\n",
    "prob=counts/counts.sum()\n",
    "prob"
   ]
  },
  {
   "cell_type": "code",
   "execution_count": 144,
   "id": "cc19a667-8319-46e4-be7f-57fb132ac0c8",
   "metadata": {},
   "outputs": [
    {
     "data": {
      "text/plain": [
       "tensor([3.7835e-44, 7.3891e+00, 5.4598e+01,        inf])"
      ]
     },
     "execution_count": 144,
     "metadata": {},
     "output_type": "execute_result"
    }
   ],
   "source": [
    "counts"
   ]
  },
  {
   "cell_type": "markdown",
   "id": "28ecd74a-3d0f-4d35-b5f6-f664047eeafe",
   "metadata": {},
   "source": [
    "what happend here is whenever x approaches -ve infinity .exp() tends to one but if logits is very high value then e^logits will be very high excedding dynamic range of float hence prob is nan(This can be seen as inf in o/p)\n"
   ]
  },
  {
   "cell_type": "code",
   "execution_count": 145,
   "id": "67642537-5b1f-41ce-a6fa-ab0de58b29f1",
   "metadata": {},
   "outputs": [
    {
     "data": {
      "text/plain": [
       "tensor([3.2023e-05, 3.5118e-02, 2.5949e-01, 7.0536e-01])"
      ]
     },
     "execution_count": 145,
     "metadata": {},
     "output_type": "execute_result"
    }
   ],
   "source": [
    "logits=torch.tensor([-5,2,4,5])\n",
    "counts=logits.exp()\n",
    "prob=counts/counts.sum()\n",
    "prob"
   ]
  },
  {
   "cell_type": "code",
   "execution_count": 146,
   "id": "eebab21e-98ba-496a-8e20-81724e71f878",
   "metadata": {},
   "outputs": [
    {
     "data": {
      "text/plain": [
       "tensor([-5,  2,  4,  5])"
      ]
     },
     "execution_count": 146,
     "metadata": {},
     "output_type": "execute_result"
    }
   ],
   "source": [
    "logits"
   ]
  },
  {
   "cell_type": "code",
   "execution_count": 147,
   "id": "0b33f0dd-9347-4ef9-9469-6a0c521cd4b0",
   "metadata": {},
   "outputs": [
    {
     "data": {
      "text/plain": [
       "tensor([3.2023e-05, 3.5118e-02, 2.5949e-01, 7.0536e-01])"
      ]
     },
     "execution_count": 147,
     "metadata": {},
     "output_type": "execute_result"
    }
   ],
   "source": [
    "logits=torch.tensor([-5,2,4,5])-5\n",
    "counts=logits.exp()\n",
    "prob=counts/counts.sum()\n",
    "prob"
   ]
  },
  {
   "cell_type": "markdown",
   "id": "7c0ee49f-62ac-44a2-a2fd-c3ac2461ced6",
   "metadata": {},
   "source": [
    "# on adding and subtracting any number from logits wont change the probability \n",
    "\n",
    "here's how:\n",
    "\n",
    "in 1st case \n",
    "\n",
    "logits=[-5,  2,  4,  5]\n",
    "\n",
    "logits[0]=-5\n",
    "\n",
    "prob1=(e^-5)/((e^-5)+(e^2)+(e^4)+(e^5))\n",
    "\n",
    "in 2nd case\n",
    "\n",
    "logits=[-10,  -3,  -1,   0]\n",
    "\n",
    "logits[0]=-10=-5-5\n",
    "\n",
    "prob2=(e^-10)/((e^-10)+(e^-3)+(e^-1)+(e^0))\n",
    "\n",
    "it can be simplified as\n",
    "\n",
    "    =(e^(-5-5))/((e^(-5-5))+(e^-(2-5))+(e^(4-5))+(e^(5-5)))\n",
    "    \n",
    "    =(e^(-5)*e^(-5))/((e^-5)*e^(-5)+(e^2)*e^(-5)+(e^4)*e^(-5)+(e^5)*e^(-5))\n",
    "    \n",
    "    =(e^(-5)*e^(-5))/e^(-5)*((e^-5)+(e^2)+(e^4)+(e^5))\n",
    "    \n",
    "    =(e^-5)/((e^-5)+(e^2)+(e^4)+(e^5))\n",
    "    \n",
    "hence prob1=prob2"
   ]
  },
  {
   "cell_type": "markdown",
   "id": "b3f2c110-f8e1-433c-a6f5-ce52a4d8f36d",
   "metadata": {},
   "source": [
    "In this way ,we can solve the problem of large logits but F.cross_entropy automatically finds max among tensors and subtracts from the given logits hence solving the problem\n",
    "\n",
    "so is another reason to use in built loss function rather than defining our custom log likihood(negative)"
   ]
  },
  {
   "cell_type": "code",
   "execution_count": 148,
   "id": "77298797-2f6d-413e-863f-371f774e1aac",
   "metadata": {},
   "outputs": [],
   "source": [
    "## summary"
   ]
  },
  {
   "cell_type": "code",
   "execution_count": 567,
   "id": "541504c8-71e2-4b4b-9a1d-09e09793dc4a",
   "metadata": {},
   "outputs": [
    {
     "data": {
      "text/plain": [
       "(torch.Size([182441, 3]), torch.Size([182441]))"
      ]
     },
     "execution_count": 567,
     "metadata": {},
     "output_type": "execute_result"
    }
   ],
   "source": [
    "# dataset\n",
    "x_train.shape,y_train.shape"
   ]
  },
  {
   "cell_type": "code",
   "execution_count": 612,
   "id": "641cd273-cdda-48f7-95cd-1d89962b0787",
   "metadata": {},
   "outputs": [],
   "source": [
    "\n",
    "g=torch.Generator().manual_seed(2146483147)\n",
    "c=torch.randn(27,10,generator=g)\n",
    "emb=c[xs]\n",
    "w1=torch.randn(30,200,generator=g)\n",
    "b1=torch.randn(200,generator=g)\n",
    "w2=torch.randn(200,27,generator=g)*0.01\n",
    "b2=torch.randn(27,generator=g)*0\n",
    "parameters=[c,w1,b1,w2,b2]"
   ]
  },
  {
   "cell_type": "code",
   "execution_count": 613,
   "id": "52df1512-f908-4c33-a5f4-b180b520e702",
   "metadata": {},
   "outputs": [
    {
     "data": {
      "text/plain": [
       "11897"
      ]
     },
     "execution_count": 613,
     "metadata": {},
     "output_type": "execute_result"
    }
   ],
   "source": [
    "sum(p.nelement() for p in parameters)"
   ]
  },
  {
   "cell_type": "code",
   "execution_count": 614,
   "id": "dceb253b-8839-4fcf-82d9-7558a5367645",
   "metadata": {},
   "outputs": [],
   "source": [
    "for p in parameters:\n",
    "    p.requires_grad=True"
   ]
  },
  {
   "cell_type": "code",
   "execution_count": 615,
   "id": "2fdd6cd4-e990-438a-bbdf-d0f094f0e1d2",
   "metadata": {},
   "outputs": [],
   "source": [
    "lre=torch.linspace(-3,0,1000)\n",
    "lrs=10**lre"
   ]
  },
  {
   "cell_type": "code",
   "execution_count": 414,
   "id": "96576c56-2491-46d8-8fce-3269d13c0927",
   "metadata": {},
   "outputs": [],
   "source": [
    "lri,lossi=[],[]\n",
    "for i in range(1000):\n",
    "    #creating batch\n",
    "    ix=torch.randint(0,xs.shape[0],(32,))\n",
    "    #forward pass\n",
    "    \n",
    "    emb=c[xs[ix]]\n",
    "    h1=torch.tanh(emb.view(-1,30)@w1+b1)\n",
    "    logits=h1@w2+b2\n",
    "    loss=F.cross_entropy(logits,ys[ix])\n",
    "    # print(loss.item())\n",
    "    #backward pass\n",
    "    for p in parameters:\n",
    "        p.grad=None\n",
    "    loss.backward()\n",
    "    lr=lrs[i]\n",
    "    for p in parameters:\n",
    "        p.data+=-lr*p.grad\n",
    "    lossi.append(loss.item())\n",
    "    lri.append(lre[i])\n",
    "# print(loss.item())\n"
   ]
  },
  {
   "cell_type": "code",
   "execution_count": 415,
   "id": "0237ba10-9f19-4b5c-a571-76374181c974",
   "metadata": {},
   "outputs": [
    {
     "data": {
      "text/plain": [
       "[<matplotlib.lines.Line2D at 0x177a96050>]"
      ]
     },
     "execution_count": 415,
     "metadata": {},
     "output_type": "execute_result"
    },
    {
     "data": {
      "image/png": "[encoded data removed]",
      "text/plain": [
       "<Figure size 640x480 with 1 Axes>"
      ]
     },
     "metadata": {},
     "output_type": "display_data"
    }
   ],
   "source": [
    "\n",
    "plt.plot(lri,lossi)\n"
   ]
  },
  {
   "cell_type": "markdown",
   "id": "bb3caa37-c804-49e3-a485-7a14fc90314b",
   "metadata": {},
   "source": [
    "here we can see that when lre is in range of -1 to -0.5 loss is min\n",
    "hence lr should lie within 0.1 to 0.31622"
   ]
  },
  {
   "cell_type": "code",
   "execution_count": 571,
   "id": "e055b803-c711-4a75-b2d1-7878ad810475",
   "metadata": {},
   "outputs": [],
   "source": [
    "lri,lossi,stepi=[],[],[]\n"
   ]
  },
  {
   "cell_type": "code",
   "execution_count": 584,
   "id": "a4846b6d-ac79-4ecf-a37d-58aae8364239",
   "metadata": {},
   "outputs": [],
   "source": [
    "\n",
    "for i in range(50000):\n",
    "    \n",
    "    #creating batch\n",
    "    ix=torch.randint(0,x_train.shape[0],(32,))\n",
    "    \n",
    "    #forward pass\n",
    "    emb=c[x_train[ix]]\n",
    "    h1=torch.tanh(emb.view(-1,30)@w1+b1)\n",
    "    logits=h1@w2+b2\n",
    "    loss=F.cross_entropy(logits,y_train[ix])\n",
    "    # print(loss.item())\n",
    "    \n",
    "    #backward pass\n",
    "    for p in parameters:\n",
    "        p.grad=None\n",
    "    loss.backward()\n",
    "    # lr=lrs[i]\n",
    "    lr=0.01\n",
    "    for p in parameters:\n",
    "        p.data+=-lr*p.grad\n",
    "    stepi.append(i)\n",
    "    lossi.append(loss.log10().item())\n",
    "    # lri.append(lre[i])\n",
    "# print(loss.item())\n"
   ]
  },
  {
   "cell_type": "code",
   "execution_count": 585,
   "id": "017c74fb-f513-4397-b117-c5e0dcbfb12c",
   "metadata": {},
   "outputs": [
    {
     "name": "stdout",
     "output_type": "stream",
     "text": [
      "2.102555990219116\n"
     ]
    }
   ],
   "source": [
    "emb=c[x_train]\n",
    "h=torch.tanh(emb.view(-1,30)@w1+b1)\n",
    "logits=h@w2+b2\n",
    "loss=F.cross_entropy(logits,y_train)\n",
    "print(f'{loss}')\n"
   ]
  },
  {
   "cell_type": "code",
   "execution_count": 586,
   "id": "6889a02b-1d82-49ac-8764-966fdd262709",
   "metadata": {},
   "outputs": [
    {
     "data": {
      "text/plain": [
       "[<matplotlib.lines.Line2D at 0x31962d490>]"
      ]
     },
     "execution_count": 586,
     "metadata": {},
     "output_type": "execute_result"
    },
    {
     "data": {
      "image/png": "[encoded data removed]",
      "text/plain": [
       "<Figure size 640x480 with 1 Axes>"
      ]
     },
     "metadata": {},
     "output_type": "display_data"
    }
   ],
   "source": [
    "plt.plot(stepi,lossi)\n"
   ]
  },
  {
   "cell_type": "code",
   "execution_count": 587,
   "id": "6d0b0aa5-fb02-4872-b42b-350af13c4d29",
   "metadata": {},
   "outputs": [
    {
     "name": "stdout",
     "output_type": "stream",
     "text": [
      "2.1465964317321777\n"
     ]
    }
   ],
   "source": [
    "emb=c[x_dev]\n",
    "h=torch.tanh(emb.view(-1,30)@w1+b1)\n",
    "logits=h@w2+b2\n",
    "loss=F.cross_entropy(logits,y_dev)\n",
    "print(f'{loss}')\n"
   ]
  },
  {
   "cell_type": "code",
   "execution_count": 496,
   "id": "b66b3d74-128e-4429-92bf-91baccdecae9",
   "metadata": {},
   "outputs": [
    {
     "data": {
      "image/png": "[encoded data removed]",
      "text/plain": [
       "<Figure size 800x800 with 1 Axes>"
      ]
     },
     "metadata": {},
     "output_type": "display_data"
    }
   ],
   "source": [
    "plt.figure(figsize=(8,8))\n",
    "plt.scatter(c[:,0].data,c[:,1].data,s=200)\n",
    "for i in range(c.shape[0]):\n",
    "    plt.text(c[i,0],c[i,1],itos[i],ha='center',va='center',color='white')\n",
    "plt.grid('minor')"
   ]
  },
  {
   "cell_type": "markdown",
   "id": "38d949e4-9fb6-4c86-a082-8da1196094e7",
   "metadata": {},
   "source": [
    "# sampling \n"
   ]
  },
  {
   "cell_type": "code",
   "execution_count": 602,
   "id": "a362759c-74ba-4ab6-9959-61699bfd2f4a",
   "metadata": {},
   "outputs": [
    {
     "name": "stdout",
     "output_type": "stream",
     "text": [
      "amelle.\n",
      "nahia.\n",
      "kalia.\n",
      "zrothsmana.\n",
      "eliugh.\n",
      "wei.\n",
      "gesten.\n",
      "sancheshvanna.\n",
      "maefin.\n",
      "gord.\n",
      "kinziya.\n",
      "kyan.\n",
      "admir.\n",
      "dana.\n",
      "raia.\n",
      "neila.\n",
      "ren.\n",
      "jadyz.\n",
      "nerynleilar.\n",
      "cabakasiah.\n"
     ]
    }
   ],
   "source": [
    "g=torch.Generator().manual_seed(2146483147)\n",
    "block_size=3\n",
    "for _ in range(20):\n",
    "    out=[]\n",
    "    context=[0]*block_size\n",
    "    while True:\n",
    "        emb=c[torch.tensor(context)]\n",
    "        h1=torch.tanh(emb.view(1,-1)@w1+b1)\n",
    "        logits=h1@w2+b2\n",
    "        prob=F.softmax(logits,dim=1)\n",
    "        ix=torch.multinomial(prob,num_samples=1,replacement=True,generator=g).item()\n",
    "        out.append(itos[ix])\n",
    "        if ix==0:\n",
    "            break\n",
    "        context=context[1:]+[ix]\n",
    "    print(''.join(out))"
   ]
  },
  {
   "cell_type": "code",
   "execution_count": 603,
   "id": "be7755c0-b1c5-4aa9-84df-946d067a8a49",
   "metadata": {},
   "outputs": [
    {
     "data": {
      "text/plain": [
       "32"
      ]
     },
     "execution_count": 603,
     "metadata": {},
     "output_type": "execute_result"
    }
   ],
   "source": [
    "block_size=3\n",
    "x,y=[],[]\n",
    "for w in words[:5]:\n",
    "    context=[0]*block_size\n",
    "    # print(w)\n",
    "    for ch in w+'.':\n",
    "        ix=stoi[ch]\n",
    "        x.append(context)\n",
    "        y.append(ix)\n",
    "        # print(''.join(itos[i] for i in context),'----->',itos[ix])\n",
    "        context=context[1:]+[ix]\n",
    "\n",
    "        \n",
    "xs=torch.tensor(x)\n",
    "ys=torch.tensor(y)\n",
    "xs.shape[0]"
   ]
  },
  {
   "cell_type": "code",
   "execution_count": 695,
   "id": "789a8747-2019-4291-9cc9-d60d3a64b856",
   "metadata": {},
   "outputs": [
    {
     "name": "stdout",
     "output_type": "stream",
     "text": [
      "0.2515602111816406\n"
     ]
    }
   ],
   "source": [
    "\n",
    "for i in range(500):\n",
    "    \n",
    "    #creating batch\n",
    "    # ix=torch.randint(0,x_train.shape[0],(32,))\n",
    "    \n",
    "    #forward pass\n",
    "    emb=c[xs]\n",
    "    embcat=emb.view(emb.shape[0],-1)\n",
    "    hpreact=embcat@w1+b1\n",
    "    h1=torch.tanh(hpreact)\n",
    "    # h1=torch.tanh(emb.view(-1,30)@w1+b1)\n",
    "    logits=h1@w2+b2\n",
    "    \n",
    "    loss=F.cross_entropy(logits,ys)\n",
    "    # print(loss.item())\n",
    "    \n",
    "    #backward pass\n",
    "    for p in parameters:\n",
    "        p.grad=None\n",
    "    loss.backward()\n",
    "    # lr=lrs[i]\n",
    "    lr=0.01\n",
    "    for p in parameters:\n",
    "        p.data+=-lr*p.grad\n",
    "    stepi.append(i)\n",
    "    lossi.append(loss.log10().item())\n",
    "    # lri.append(lre[i])\n",
    "    # break\n",
    "print(loss.item())\n"
   ]
  },
  {
   "cell_type": "code",
   "execution_count": 696,
   "id": "04427d50-d300-4dec-ad0f-c01602bca835",
   "metadata": {},
   "outputs": [
    {
     "data": {
      "text/plain": [
       "<matplotlib.image.AxesImage at 0x301a768d0>"
      ]
     },
     "execution_count": 696,
     "metadata": {},
     "output_type": "execute_result"
    },
    {
     "data": {
      "image/png": "[encoded data removed]",
      "text/plain": [
       "<Figure size 1200x600 with 1 Axes>"
      ]
     },
     "metadata": {},
     "output_type": "display_data"
    }
   ],
   "source": [
    "plt.figure(figsize=(12,6))\n",
    "plt.imshow(h1.abs()==1,cmap='grey')"
   ]
  },
  {
   "cell_type": "code",
   "execution_count": 692,
   "id": "f47700f7-2f6c-43a8-9ec6-08ace329daad",
   "metadata": {},
   "outputs": [
    {
     "data": {
      "image/png": "[encoded data removed]",
      "text/plain": [
       "<Figure size 640x480 with 1 Axes>"
      ]
     },
     "metadata": {},
     "output_type": "display_data"
    }
   ],
   "source": [
    "plt.hist(h1.view(-1).tolist(),bins=50);"
   ]
  },
  {
   "cell_type": "code",
   "execution_count": null,
   "id": "7ba46c23-bfe4-40ff-8f0c-44c2e38c1eaa",
   "metadata": {},
   "outputs": [],
   "source": []
  },
  {
   "cell_type": "code",
   "execution_count": null,
   "id": "cd72e29d-100f-4fd1-bb0c-a4afbfafe35a",
   "metadata": {},
   "outputs": [],
   "source": []
  }
 ],
 "metadata": {
  "kernelspec": {
   "display_name": "Python 3 (ipykernel)",
   "language": "python",
   "name": "python3"
  },
  "language_info": {
   "codemirror_mode": {
    "name": "ipython",
    "version": 3
   },
   "file_extension": ".py",
   "mimetype": "text/x-python",
   "name": "python",
   "nbconvert_exporter": "python",
   "pygments_lexer": "ipython3",
   "version": "3.11.2"
  }
 },
 "nbformat": 4,
 "nbformat_minor": 5
}
